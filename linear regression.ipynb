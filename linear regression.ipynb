{
 "cells": [
  {
   "cell_type": "code",
   "execution_count": 4,
   "metadata": {},
   "outputs": [],
   "source": [
    "import matplotlib.pyplot as plt\n",
    "\n",
    "from sklearn.linear_model import LinearRegression\n",
    "from sklearn.metrics import r2_score\n",
    " \n",
    "import statsmodels.api as sm\n",
    "\n",
    "\n",
    "import numpy as np\n",
    "\n",
    "import datetime as dt\n",
    "import time"
   ]
  },
  {
   "cell_type": "code",
   "execution_count": 67,
   "metadata": {},
   "outputs": [],
   "source": [
    "data = pd.read_csv(\"vaccination_china.csv\")"
   ]
  },
  {
   "cell_type": "code",
   "execution_count": 68,
   "metadata": {},
   "outputs": [
    {
     "data": {
      "text/html": [
       "<div>\n",
       "<style scoped>\n",
       "    .dataframe tbody tr th:only-of-type {\n",
       "        vertical-align: middle;\n",
       "    }\n",
       "\n",
       "    .dataframe tbody tr th {\n",
       "        vertical-align: top;\n",
       "    }\n",
       "\n",
       "    .dataframe thead th {\n",
       "        text-align: right;\n",
       "    }\n",
       "</style>\n",
       "<table border=\"1\" class=\"dataframe\">\n",
       "  <thead>\n",
       "    <tr style=\"text-align: right;\">\n",
       "      <th></th>\n",
       "      <th>date</th>\n",
       "      <th>total_vaccinations_raw</th>\n",
       "      <th>total_vaccinations</th>\n",
       "    </tr>\n",
       "  </thead>\n",
       "  <tbody>\n",
       "    <tr>\n",
       "      <th>0</th>\n",
       "      <td>2021/3/22</td>\n",
       "      <td>80460000</td>\n",
       "      <td>80.4600</td>\n",
       "    </tr>\n",
       "    <tr>\n",
       "      <th>1</th>\n",
       "      <td>2021/3/23</td>\n",
       "      <td>82846000</td>\n",
       "      <td>82.8460</td>\n",
       "    </tr>\n",
       "    <tr>\n",
       "      <th>2</th>\n",
       "      <td>2021/3/24</td>\n",
       "      <td>85859700</td>\n",
       "      <td>85.8597</td>\n",
       "    </tr>\n",
       "    <tr>\n",
       "      <th>3</th>\n",
       "      <td>2021/3/25</td>\n",
       "      <td>91346000</td>\n",
       "      <td>91.3460</td>\n",
       "    </tr>\n",
       "    <tr>\n",
       "      <th>4</th>\n",
       "      <td>2021/3/26</td>\n",
       "      <td>97470000</td>\n",
       "      <td>97.4700</td>\n",
       "    </tr>\n",
       "  </tbody>\n",
       "</table>\n",
       "</div>"
      ],
      "text/plain": [
       "        date  total_vaccinations_raw  total_vaccinations\n",
       "0  2021/3/22                80460000             80.4600\n",
       "1  2021/3/23                82846000             82.8460\n",
       "2  2021/3/24                85859700             85.8597\n",
       "3  2021/3/25                91346000             91.3460\n",
       "4  2021/3/26                97470000             97.4700"
      ]
     },
     "execution_count": 68,
     "metadata": {},
     "output_type": "execute_result"
    }
   ],
   "source": [
    "data.head()"
   ]
  },
  {
   "cell_type": "code",
   "execution_count": 69,
   "metadata": {},
   "outputs": [
    {
     "data": {
      "text/html": [
       "<div>\n",
       "<style scoped>\n",
       "    .dataframe tbody tr th:only-of-type {\n",
       "        vertical-align: middle;\n",
       "    }\n",
       "\n",
       "    .dataframe tbody tr th {\n",
       "        vertical-align: top;\n",
       "    }\n",
       "\n",
       "    .dataframe thead th {\n",
       "        text-align: right;\n",
       "    }\n",
       "</style>\n",
       "<table border=\"1\" class=\"dataframe\">\n",
       "  <thead>\n",
       "    <tr style=\"text-align: right;\">\n",
       "      <th></th>\n",
       "      <th>index</th>\n",
       "      <th>date</th>\n",
       "      <th>total_vaccinations_raw</th>\n",
       "      <th>total_vaccinations</th>\n",
       "    </tr>\n",
       "  </thead>\n",
       "  <tbody>\n",
       "    <tr>\n",
       "      <th>0</th>\n",
       "      <td>0</td>\n",
       "      <td>2021-03-22</td>\n",
       "      <td>80460000</td>\n",
       "      <td>80.4600</td>\n",
       "    </tr>\n",
       "    <tr>\n",
       "      <th>1</th>\n",
       "      <td>1</td>\n",
       "      <td>2021-03-23</td>\n",
       "      <td>82846000</td>\n",
       "      <td>82.8460</td>\n",
       "    </tr>\n",
       "    <tr>\n",
       "      <th>2</th>\n",
       "      <td>2</td>\n",
       "      <td>2021-03-24</td>\n",
       "      <td>85859700</td>\n",
       "      <td>85.8597</td>\n",
       "    </tr>\n",
       "    <tr>\n",
       "      <th>3</th>\n",
       "      <td>3</td>\n",
       "      <td>2021-03-25</td>\n",
       "      <td>91346000</td>\n",
       "      <td>91.3460</td>\n",
       "    </tr>\n",
       "    <tr>\n",
       "      <th>4</th>\n",
       "      <td>4</td>\n",
       "      <td>2021-03-26</td>\n",
       "      <td>97470000</td>\n",
       "      <td>97.4700</td>\n",
       "    </tr>\n",
       "  </tbody>\n",
       "</table>\n",
       "</div>"
      ],
      "text/plain": [
       "   index       date  total_vaccinations_raw  total_vaccinations\n",
       "0      0 2021-03-22                80460000             80.4600\n",
       "1      1 2021-03-23                82846000             82.8460\n",
       "2      2 2021-03-24                85859700             85.8597\n",
       "3      3 2021-03-25                91346000             91.3460\n",
       "4      4 2021-03-26                97470000             97.4700"
      ]
     },
     "execution_count": 69,
     "metadata": {},
     "output_type": "execute_result"
    }
   ],
   "source": [
    "data = data.reset_index()\n",
    "data['date'] = pd.to_datetime(data['date'])\n",
    "data.head()"
   ]
  },
  {
   "cell_type": "code",
   "execution_count": 71,
   "metadata": {},
   "outputs": [
    {
     "name": "stdout",
     "output_type": "stream",
     "text": [
      "0      0\n",
      "1      1\n",
      "2      2\n",
      "3      3\n",
      "4      4\n",
      "5      5\n",
      "6      6\n",
      "7      7\n",
      "8      8\n",
      "9      9\n",
      "10    10\n",
      "11    11\n",
      "12    12\n",
      "13    13\n",
      "14    14\n",
      "15    15\n",
      "16    16\n",
      "17    17\n",
      "18    18\n",
      "19    19\n",
      "20    20\n",
      "21    21\n",
      "22    22\n",
      "23    23\n",
      "24    24\n",
      "Name: index, dtype: int64\n",
      "0      80.4600\n",
      "1      82.8460\n",
      "2      85.8597\n",
      "3      91.3460\n",
      "4      97.4700\n",
      "5     102.4170\n",
      "6     106.6130\n",
      "7     110.9620\n",
      "8     114.6900\n",
      "9     119.8210\n",
      "10    126.6160\n",
      "11    133.8010\n",
      "12    136.6770\n",
      "13    139.9700\n",
      "14    142.8020\n",
      "15    145.9200\n",
      "16    149.0710\n",
      "17    155.1500\n",
      "18    161.1210\n",
      "19    164.4710\n",
      "20    167.3430\n",
      "21    171.9280\n",
      "22    175.6230\n",
      "23    179.2160\n",
      "24    183.5360\n",
      "Name: total_vaccinations, dtype: float64\n"
     ]
    }
   ],
   "source": [
    "print(data['index'])\n",
    "print(data['total_vaccinations'])"
   ]
  },
  {
   "cell_type": "code",
   "execution_count": 70,
   "metadata": {},
   "outputs": [
    {
     "data": {
      "image/png": "[encoded data removed]",
      "text/plain": [
       "<Figure size 1152x576 with 1 Axes>"
      ]
     },
     "metadata": {
      "needs_background": "light"
     },
     "output_type": "display_data"
    }
   ],
   "source": [
    "plt.figure(figsize=(16, 8))\n",
    "plt.scatter(\n",
    "data['index'],\n",
    "data['total_vaccinations'],\n",
    "c='black'\n",
    ")\n",
    "plt.xlabel(\"Money spent on TV ads ($)\")\n",
    "plt.ylabel(\"Sales ($)\")\n",
    "plt.show()"
   ]
  },
  {
   "cell_type": "code",
   "execution_count": 106,
   "metadata": {},
   "outputs": [
    {
     "name": "stdout",
     "output_type": "stream",
     "text": [
      "The linear model is: Y = 80.27 + 4.3966X\n"
     ]
    }
   ],
   "source": [
    "X = data['index'].values.reshape(-1,1)\n",
    "y = data['total_vaccinations'].values.reshape(-1,1)\n",
    "\n",
    "\n",
    "reg = LinearRegression()\n",
    "\n",
    "reg.fit(X, y)\n",
    "\n",
    "\n",
    "\n",
    "print(\"The linear model is: Y = {:.5} + {:.5}X\".format(reg.intercept_[0], reg.coef_[0][0]))"
   ]
  },
  {
   "cell_type": "code",
   "execution_count": 115,
   "metadata": {},
   "outputs": [
    {
     "data": {
      "image/png": "[encoded data removed]",
      "text/plain": [
       "<Figure size 1440x576 with 1 Axes>"
      ]
     },
     "metadata": {
      "needs_background": "light"
     },
     "output_type": "display_data"
    },
    {
     "name": "stdout",
     "output_type": "stream",
     "text": [
      "0      0\n",
      "1      1\n",
      "2      2\n",
      "3      3\n",
      "4      4\n",
      "5      5\n",
      "6      6\n",
      "7      7\n",
      "8      8\n",
      "9      9\n",
      "10    10\n",
      "11    11\n",
      "12    12\n",
      "13    13\n",
      "14    14\n",
      "15    15\n",
      "16    16\n",
      "17    17\n",
      "18    18\n",
      "19    19\n",
      "20    20\n",
      "21    21\n",
      "22    22\n",
      "23    23\n",
      "24    24\n",
      "Name: index, dtype: int64\n",
      "<class 'pandas.core.series.Series'>\n",
      "[[ 80.27012646]\n",
      " [ 84.66671492]\n",
      " [ 89.06330338]\n",
      " [ 93.45989185]\n",
      " [ 97.85648031]\n",
      " [102.25306877]\n",
      " [106.64965723]\n",
      " [111.04624569]\n",
      " [115.44283415]\n",
      " [119.83942262]\n",
      " [124.23601108]\n",
      " [128.63259954]\n",
      " [133.029188  ]\n",
      " [137.42577646]\n",
      " [141.82236492]\n",
      " [146.21895338]\n",
      " [150.61554185]\n",
      " [155.01213031]\n",
      " [159.40871877]\n",
      " [163.80530723]\n",
      " [168.20189569]\n",
      " [172.59848415]\n",
      " [176.99507262]\n",
      " [181.39166108]\n",
      " [185.78824954]]\n",
      "[ 80.27012646  84.66671492  89.06330338  93.45989185  97.85648031\n",
      " 102.25306877 106.64965723 111.04624569 115.44283415 119.83942262\n",
      " 124.23601108 128.63259954 133.029188   137.42577646 141.82236492\n",
      " 146.21895338 150.61554185 155.01213031 159.40871877 163.80530723\n",
      " 168.20189569 172.59848415 176.99507262 181.39166108 185.78824954]\n"
     ]
    }
   ],
   "source": [
    "predictions = reg.predict(X)\n",
    "\n",
    " \n",
    "plt.figure(figsize=(20, 8))\n",
    "plt.scatter(\n",
    "    data['date'],\n",
    "    data['total_vaccinations'],\n",
    "    c='black',\n",
    "    label= 'Actual Price'\n",
    ")\n",
    "plt.plot(\n",
    "    data['date'],\n",
    "    predictions,\n",
    "    c='blue',\n",
    "    linewidth=2,\n",
    "    label= 'Actual Price'\n",
    ")\n",
    "plt.xlabel(\"Money spent on TV ads ($)\")\n",
    "plt.ylabel(\"Sales ($)\")\n",
    "plt.show()\n",
    "print(data['index'])\n",
    "print(type(data['index']))\n",
    "print(predictions)\n",
    "print(predictions.flatten())"
   ]
  },
  {
   "cell_type": "code",
   "execution_count": 74,
   "metadata": {},
   "outputs": [
    {
     "name": "stdout",
     "output_type": "stream",
     "text": [
      "                            OLS Regression Results                            \n",
      "==============================================================================\n",
      "Dep. Variable:     total_vaccinations   R-squared:                       0.996\n",
      "Model:                            OLS   Adj. R-squared:                  0.996\n",
      "Method:                 Least Squares   F-statistic:                     6373.\n",
      "Date:                Wed, 21 Apr 2021   Prob (F-statistic):           1.29e-29\n",
      "Time:                        20:03:31   Log-Likelihood:                -51.581\n",
      "No. Observations:                  25   AIC:                             107.2\n",
      "Df Residuals:                      23   BIC:                             109.6\n",
      "Df Model:                           1                                         \n",
      "Covariance Type:            nonrobust                                         \n",
      "==============================================================================\n",
      "                 coef    std err          t      P>|t|      [0.025      0.975]\n",
      "------------------------------------------------------------------------------\n",
      "const         80.2701      0.771    104.104      0.000      78.675      81.865\n",
      "index          4.3966      0.055     79.829      0.000       4.283       4.511\n",
      "==============================================================================\n",
      "Omnibus:                        4.990   Durbin-Watson:                   0.486\n",
      "Prob(Omnibus):                  0.082   Jarque-Bera (JB):                3.255\n",
      "Skew:                           0.840   Prob(JB):                        0.196\n",
      "Kurtosis:                       3.553   Cond. No.                         27.3\n",
      "==============================================================================\n",
      "\n",
      "Warnings:\n",
      "[1] Standard Errors assume that the covariance matrix of the errors is correctly specified.\n"
     ]
    }
   ],
   "source": [
    "X = data['index']\n",
    "y = data['total_vaccinations']\n",
    " \n",
    "X2 = sm.add_constant(X)\n",
    "est = sm.OLS(y, X2)\n",
    "est2 = est.fit()\n",
    "print(est2.summary())"
   ]
  },
  {
   "cell_type": "code",
   "execution_count": 97,
   "metadata": {},
   "outputs": [
    {
     "name": "stdout",
     "output_type": "stream",
     "text": [
      "[  0.           4.28571429   8.57142857  12.85714286  17.14285714\n",
      "  21.42857143  25.71428571  30.          34.28571429  38.57142857\n",
      "  42.85714286  47.14285714  51.42857143  55.71428571  60.\n",
      "  64.28571429  68.57142857  72.85714286  77.14285714  81.42857143\n",
      "  85.71428571  90.          94.28571429  98.57142857 102.85714286\n",
      " 107.14285714 111.42857143 115.71428571 120.         124.28571429\n",
      " 128.57142857 132.85714286 137.14285714 141.42857143 145.71428571\n",
      " 150.         154.28571429 158.57142857 162.85714286 167.14285714\n",
      " 171.42857143 175.71428571 180.         184.28571429 188.57142857\n",
      " 192.85714286 197.14285714 201.42857143 205.71428571 210.        ]\n"
     ]
    }
   ],
   "source": [
    "x=np.linspace(0,210)\n",
    "print(x)"
   ]
  },
  {
   "cell_type": "code",
   "execution_count": 98,
   "metadata": {},
   "outputs": [
    {
     "name": "stdout",
     "output_type": "stream",
     "text": [
      "[[  80.27012646]\n",
      " [  99.11264844]\n",
      " [ 117.95517042]\n",
      " [ 136.7976924 ]\n",
      " [ 155.64021437]\n",
      " [ 174.48273635]\n",
      " [ 193.32525833]\n",
      " [ 212.16778031]\n",
      " [ 231.01030229]\n",
      " [ 249.85282426]\n",
      " [ 268.69534624]\n",
      " [ 287.53786822]\n",
      " [ 306.3803902 ]\n",
      " [ 325.22291218]\n",
      " [ 344.06543415]\n",
      " [ 362.90795613]\n",
      " [ 381.75047811]\n",
      " [ 400.59300009]\n",
      " [ 419.43552207]\n",
      " [ 438.27804404]\n",
      " [ 457.12056602]\n",
      " [ 475.963088  ]\n",
      " [ 494.80560998]\n",
      " [ 513.64813196]\n",
      " [ 532.49065393]\n",
      " [ 551.33317591]\n",
      " [ 570.17569789]\n",
      " [ 589.01821987]\n",
      " [ 607.86074185]\n",
      " [ 626.70326382]\n",
      " [ 645.5457858 ]\n",
      " [ 664.38830778]\n",
      " [ 683.23082976]\n",
      " [ 702.07335174]\n",
      " [ 720.91587371]\n",
      " [ 739.75839569]\n",
      " [ 758.60091767]\n",
      " [ 777.44343965]\n",
      " [ 796.28596163]\n",
      " [ 815.1284836 ]\n",
      " [ 833.97100558]\n",
      " [ 852.81352756]\n",
      " [ 871.65604954]\n",
      " [ 890.49857152]\n",
      " [ 909.34109349]\n",
      " [ 928.18361547]\n",
      " [ 947.02613745]\n",
      " [ 965.86865943]\n",
      " [ 984.71118141]\n",
      " [1003.55370338]]\n"
     ]
    }
   ],
   "source": [
    "y_predict=reg.predict(x.reshape(-1,1))\n",
    "print(y_predict)"
   ]
  },
  {
   "cell_type": "code",
   "execution_count": 104,
   "metadata": {},
   "outputs": [
    {
     "data": {
      "image/png": "[encoded data removed]",
      "text/plain": [
       "<Figure size 1296x720 with 1 Axes>"
      ]
     },
     "metadata": {
      "needs_background": "light"
     },
     "output_type": "display_data"
    }
   ],
   "source": [
    "plt.figure(figsize=(18, 10))\n",
    "plt.scatter(\n",
    "    data['index'],\n",
    "    data['total_vaccinations'],\n",
    "    c='red'\n",
    ")\n",
    "plt.plot(\n",
    "    x,\n",
    "    y_predict,\n",
    "    c='blue',\n",
    "    linewidth=2\n",
    ")\n",
    "plt.xlabel(\"Money spent on TV ads ($)\")\n",
    "plt.ylabel(\"Sales ($)\")\n",
    "plt.show()"
   ]
  },
  {
   "cell_type": "code",
   "execution_count": 117,
   "metadata": {},
   "outputs": [
    {
     "data": {
      "text/plain": [
       "[Text(0, 0, ''),\n",
       " Text(0, 0, '1月13号'),\n",
       " Text(0, 0, '1月23号'),\n",
       " Text(0, 0, '2月2号'),\n",
       " Text(0, 0, '2月10号'),\n",
       " Text(0, 0, '2月20号')]"
      ]
     },
     "execution_count": 117,
     "metadata": {},
     "output_type": "execute_result"
    },
    {
     "name": "stderr",
     "output_type": "stream",
     "text": [
      "findfont: Font family ['sans-serif'] not found. Falling back to DejaVu Sans.\n",
      "/opt/anaconda3/lib/python3.8/site-packages/matplotlib/backends/backend_agg.py:214: RuntimeWarning: Glyph 30830 missing from current font.\n",
      "  font.set_text(s, 0.0, flags=flags)\n",
      "/opt/anaconda3/lib/python3.8/site-packages/matplotlib/backends/backend_agg.py:214: RuntimeWarning: Glyph 35786 missing from current font.\n",
      "  font.set_text(s, 0.0, flags=flags)\n",
      "/opt/anaconda3/lib/python3.8/site-packages/matplotlib/backends/backend_agg.py:214: RuntimeWarning: Glyph 20154 missing from current font.\n",
      "  font.set_text(s, 0.0, flags=flags)\n",
      "/opt/anaconda3/lib/python3.8/site-packages/matplotlib/backends/backend_agg.py:214: RuntimeWarning: Glyph 25968 missing from current font.\n",
      "  font.set_text(s, 0.0, flags=flags)\n",
      "/opt/anaconda3/lib/python3.8/site-packages/matplotlib/backends/backend_agg.py:214: RuntimeWarning: Glyph 38543 missing from current font.\n",
      "  font.set_text(s, 0.0, flags=flags)\n",
      "/opt/anaconda3/lib/python3.8/site-packages/matplotlib/backends/backend_agg.py:214: RuntimeWarning: Glyph 26102 missing from current font.\n",
      "  font.set_text(s, 0.0, flags=flags)\n",
      "/opt/anaconda3/lib/python3.8/site-packages/matplotlib/backends/backend_agg.py:214: RuntimeWarning: Glyph 38388 missing from current font.\n",
      "  font.set_text(s, 0.0, flags=flags)\n",
      "/opt/anaconda3/lib/python3.8/site-packages/matplotlib/backends/backend_agg.py:214: RuntimeWarning: Glyph 21464 missing from current font.\n",
      "  font.set_text(s, 0.0, flags=flags)\n",
      "/opt/anaconda3/lib/python3.8/site-packages/matplotlib/backends/backend_agg.py:214: RuntimeWarning: Glyph 21270 missing from current font.\n",
      "  font.set_text(s, 0.0, flags=flags)\n",
      "/opt/anaconda3/lib/python3.8/site-packages/matplotlib/backends/backend_agg.py:214: RuntimeWarning: Glyph 24773 missing from current font.\n",
      "  font.set_text(s, 0.0, flags=flags)\n",
      "/opt/anaconda3/lib/python3.8/site-packages/matplotlib/backends/backend_agg.py:214: RuntimeWarning: Glyph 20917 missing from current font.\n",
      "  font.set_text(s, 0.0, flags=flags)\n",
      "/opt/anaconda3/lib/python3.8/site-packages/matplotlib/backends/backend_agg.py:214: RuntimeWarning: Glyph 26376 missing from current font.\n",
      "  font.set_text(s, 0.0, flags=flags)\n",
      "/opt/anaconda3/lib/python3.8/site-packages/matplotlib/backends/backend_agg.py:214: RuntimeWarning: Glyph 21495 missing from current font.\n",
      "  font.set_text(s, 0.0, flags=flags)\n",
      "/opt/anaconda3/lib/python3.8/site-packages/matplotlib/backends/backend_agg.py:183: RuntimeWarning: Glyph 26376 missing from current font.\n",
      "  font.set_text(s, 0, flags=flags)\n",
      "/opt/anaconda3/lib/python3.8/site-packages/matplotlib/backends/backend_agg.py:183: RuntimeWarning: Glyph 21495 missing from current font.\n",
      "  font.set_text(s, 0, flags=flags)\n",
      "/opt/anaconda3/lib/python3.8/site-packages/matplotlib/backends/backend_agg.py:183: RuntimeWarning: Glyph 30830 missing from current font.\n",
      "  font.set_text(s, 0, flags=flags)\n",
      "/opt/anaconda3/lib/python3.8/site-packages/matplotlib/backends/backend_agg.py:183: RuntimeWarning: Glyph 35786 missing from current font.\n",
      "  font.set_text(s, 0, flags=flags)\n",
      "/opt/anaconda3/lib/python3.8/site-packages/matplotlib/backends/backend_agg.py:183: RuntimeWarning: Glyph 20154 missing from current font.\n",
      "  font.set_text(s, 0, flags=flags)\n",
      "/opt/anaconda3/lib/python3.8/site-packages/matplotlib/backends/backend_agg.py:183: RuntimeWarning: Glyph 25968 missing from current font.\n",
      "  font.set_text(s, 0, flags=flags)\n",
      "/opt/anaconda3/lib/python3.8/site-packages/matplotlib/backends/backend_agg.py:183: RuntimeWarning: Glyph 38543 missing from current font.\n",
      "  font.set_text(s, 0, flags=flags)\n",
      "/opt/anaconda3/lib/python3.8/site-packages/matplotlib/backends/backend_agg.py:183: RuntimeWarning: Glyph 26102 missing from current font.\n",
      "  font.set_text(s, 0, flags=flags)\n",
      "/opt/anaconda3/lib/python3.8/site-packages/matplotlib/backends/backend_agg.py:183: RuntimeWarning: Glyph 38388 missing from current font.\n",
      "  font.set_text(s, 0, flags=flags)\n",
      "/opt/anaconda3/lib/python3.8/site-packages/matplotlib/backends/backend_agg.py:183: RuntimeWarning: Glyph 21464 missing from current font.\n",
      "  font.set_text(s, 0, flags=flags)\n",
      "/opt/anaconda3/lib/python3.8/site-packages/matplotlib/backends/backend_agg.py:183: RuntimeWarning: Glyph 21270 missing from current font.\n",
      "  font.set_text(s, 0, flags=flags)\n",
      "/opt/anaconda3/lib/python3.8/site-packages/matplotlib/backends/backend_agg.py:183: RuntimeWarning: Glyph 24773 missing from current font.\n",
      "  font.set_text(s, 0, flags=flags)\n",
      "/opt/anaconda3/lib/python3.8/site-packages/matplotlib/backends/backend_agg.py:183: RuntimeWarning: Glyph 20917 missing from current font.\n",
      "  font.set_text(s, 0, flags=flags)\n"
     ]
    },
    {
     "data": {
      "image/png": "[encoded data removed]",
      "text/plain": [
       "<Figure size 720x288 with 1 Axes>"
      ]
     },
     "metadata": {
      "needs_background": "light"
     },
     "output_type": "display_data"
    }
   ],
   "source": [
    "fig=plt.figure(figsize=(10,4)) #建立画布\n",
    "ax=fig.add_subplot(1, 1, 1) \n",
    "plt.scatter(\n",
    "    data['index'],\n",
    "    data['total_vaccinations'],\n",
    "    c='red'\n",
    ") #真实数据散点图\n",
    "#ax.set_xlabel(\"天数\") #横坐标\n",
    "ax.set_ylabel(\"确诊人数\") #纵坐标\n",
    "ax.set_title(\"确诊人数随时间变化情况\") #标题\n",
    "ax.set_xticklabels(['', '1月13号', '1月23号', '2月2号', '2月10号','2月20号'], rotation=30, fontsize=10) #自定义横坐标标签"
   ]
  },
  {
   "cell_type": "code",
   "execution_count": null,
   "metadata": {},
   "outputs": [],
   "source": []
  }
 ],
 "metadata": {
  "kernelspec": {
   "display_name": "Python 3",
   "language": "python",
   "name": "python3"
  },
  "language_info": {
   "codemirror_mode": {
    "name": "ipython",
    "version": 3
   },
   "file_extension": ".py",
   "mimetype": "text/x-python",
   "name": "python",
   "nbconvert_exporter": "python",
   "pygments_lexer": "ipython3",
   "version": "3.8.3"
  }
 },
 "nbformat": 4,
 "nbformat_minor": 4
}
