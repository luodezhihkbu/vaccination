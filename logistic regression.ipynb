{
 "cells": [
  {
   "cell_type": "code",
   "execution_count": 35,
   "metadata": {},
   "outputs": [],
   "source": [
    "import numpy as np #导入数值计算模块\n",
    "import pandas as pd #导入数据处理模块\n",
    "import matplotlib.pyplot as plt #导入绘图模块\n",
    "from scipy.optimize import curve_fit as curve_fit #导入拟合模块\n",
    "plt.rcParams[\"axes.unicode_minus\"]=False #显示负号\n",
    "import datetime as dt\n",
    "import time"
   ]
  },
  {
   "cell_type": "code",
   "execution_count": 36,
   "metadata": {},
   "outputs": [],
   "source": [
    "data=pd.read_csv(\"vaccination_china.csv\") #读取数据\n",
    "data['date'] = pd.to_datetime(data['date'])\n",
    "date=data['date'] #日期\n",
    "total_vaccinations=data['total_vaccinations'] \n",
    "t=range(len(total_vaccinations)) #构造横轴"
   ]
  },
  {
   "cell_type": "code",
   "execution_count": 23,
   "metadata": {},
   "outputs": [
    {
     "name": "stdout",
     "output_type": "stream",
     "text": [
      "range(0, 122)\n"
     ]
    }
   ],
   "source": [
    "print(t)"
   ]
  },
  {
   "cell_type": "code",
   "execution_count": 37,
   "metadata": {},
   "outputs": [
    {
     "data": {
      "text/plain": [
       "<matplotlib.collections.PathCollection at 0x126019d30>"
      ]
     },
     "execution_count": 37,
     "metadata": {},
     "output_type": "execute_result"
    },
    {
     "data": {
      "image/png": "[encoded data removed]",
      "text/plain": [
       "<Figure size 432x288 with 1 Axes>"
      ]
     },
     "metadata": {
      "needs_background": "light"
     },
     "output_type": "display_data"
    }
   ],
   "source": [
    "xdata = [ i+1 for i in range(len(total_vaccinations)) ]                  # 横坐标数据，以第几天表示\n",
    "ydata = total_vaccinations                                    # 纵坐标数据，表示每天对应的病例数\n",
    "plt.scatter(xdata, ydata, label='data') "
   ]
  },
  {
   "cell_type": "code",
   "execution_count": 38,
   "metadata": {},
   "outputs": [],
   "source": [
    "# S型曲线函数公式定义\n",
    "def func(x, k, a, b):\n",
    " return k/(1+(k/b-1)*np.exp(-a*x))\n",
    "\n",
    "# 非线性最小二乘法拟合\n",
    "popt, pcov = curve_fit(func, xdata, ydata, method='dogbox', \\\n",
    "                        bounds=([1000., 0.01, 10.],[10000000., 1.0, 1000.]))\n",
    "k = popt[0]\n",
    "a = popt[1]\n",
    "b = popt[2]"
   ]
  },
  {
   "cell_type": "code",
   "execution_count": 39,
   "metadata": {},
   "outputs": [
    {
     "data": {
      "image/png": "[encoded data removed]",
      "text/plain": [
       "<Figure size 432x288 with 1 Axes>"
      ]
     },
     "metadata": {
      "needs_background": "light"
     },
     "output_type": "display_data"
    }
   ],
   "source": [
    "# 计算拟合数据后的数据\n",
    "date_extend = 21 # 需要预测的天数\n",
    "x = np.linspace(0, len(xdata)+date_extend)            # 横坐标取值\n",
    "y = func(x, *popt)                                          # 纵坐标计算值 \n",
    "\n",
    "# 作图\n",
    "plt.plot(x, y,  color='r', label='fit')                      # 对拟合函数作图\n",
    "plt.xlabel('Day')                                              # 打印横坐标标签\n",
    "plt.ylabel('Number of Cases')                           # 打印纵坐标标签\n",
    "plt.title('A Rough Simulation and Prediction')     # 打印图表名称\n",
    "plt.legend(loc='best')                                      # 打印图例说明\n",
    "plt.show( ) "
   ]
  },
  {
   "cell_type": "code",
   "execution_count": null,
   "metadata": {},
   "outputs": [],
   "source": []
  }
 ],
 "metadata": {
  "kernelspec": {
   "display_name": "Python 3",
   "language": "python",
   "name": "python3"
  },
  "language_info": {
   "codemirror_mode": {
    "name": "ipython",
    "version": 3
   },
   "file_extension": ".py",
   "mimetype": "text/x-python",
   "name": "python",
   "nbconvert_exporter": "python",
   "pygments_lexer": "ipython3",
   "version": "3.8.3"
  }
 },
 "nbformat": 4,
 "nbformat_minor": 4
}
